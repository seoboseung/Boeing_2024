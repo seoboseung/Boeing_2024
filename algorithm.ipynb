{
 "cells": [
  {
   "cell_type": "code",
   "execution_count": 2,
   "metadata": {},
   "outputs": [
    {
     "data": {
      "image/png": "[encoded data removed]",
      "text/plain": [
       "<Figure size 600x600 with 1 Axes>"
      ]
     },
     "metadata": {},
     "output_type": "display_data"
    },
    {
     "name": "stdout",
     "output_type": "stream",
     "text": [
      "Image saved as NumPy array at: processed_image.npy\n",
      "Loaded image shape: (64, 64)\n",
      "Loaded image unique values: [0 1]\n"
     ]
    }
   ],
   "source": [
    "import os\n",
    "import numpy as np\n",
    "from PIL import Image\n",
    "import matplotlib.pyplot as plt\n",
    "\n",
    "def process_image_from_folder(folder_path, file_name):\n",
    "    \"\"\"\n",
    "    Load an image from a folder, resize it to 64x64, and binarize it.\n",
    "    \n",
    "    Args:\n",
    "        folder_path (str): Path to the folder containing the image.\n",
    "        file_name (str): Name of the image file to process.\n",
    "    \n",
    "    Returns:\n",
    "        numpy.ndarray: Processed image with shape (64, 64) and binary values (0 or 1).\n",
    "    \"\"\"\n",
    "    # Build full path to the image file\n",
    "    file_path = os.path.join(folder_path, file_name)\n",
    "    \n",
    "    # Open the image\n",
    "    with Image.open(file_path) as img:\n",
    "        # Ensure the image is in grayscale mode\n",
    "        img = img.convert('L')\n",
    "        \n",
    "        # Resize the image to 64x64\n",
    "        resized_image = img.resize((64, 64), Image.Resampling.LANCZOS)\n",
    "        \n",
    "        # Convert image to numpy array and normalize to range [0, 1]\n",
    "        resized_array = np.array(resized_image) / 255.0\n",
    "        \n",
    "        # Binarize the image: 0 if < 0.3, 1 otherwise\n",
    "        binarized_image = (resized_array >= 0.3).astype(np.uint8)\n",
    "    \n",
    "    return binarized_image\n",
    "\n",
    "def display_image(image, title=\"Image\"):\n",
    "    \"\"\"\n",
    "    Display the image using matplotlib.\n",
    "    \n",
    "    Args:\n",
    "        image (numpy.ndarray): Image to display.\n",
    "        title (str): Title for the displayed image.\n",
    "    \"\"\"\n",
    "    plt.figure(figsize=(6, 6))\n",
    "    plt.imshow(image, cmap='gray')\n",
    "    plt.title(title)\n",
    "    plt.axis('off')\n",
    "    plt.show()\n",
    "\n",
    "def save_numpy_array(image, save_path):\n",
    "    \"\"\"\n",
    "    Save the numpy array as a .npy file.\n",
    "    \n",
    "    Args:\n",
    "        image (numpy.ndarray): Image to save.\n",
    "        save_path (str): Path to save the .npy file.\n",
    "    \"\"\"\n",
    "    np.save(save_path, image)\n",
    "    print(f\"Image saved as NumPy array at: {save_path}\")\n",
    "\n",
    "# Example usage\n",
    "if __name__ == \"__main__\":\n",
    "    # Path to the folder containing the image\n",
    "    folder_path = \"expanded/0\"\n",
    "    \n",
    "    # Name of the image file (example: replace with your file name)\n",
    "    file_name = \"Volker_DSC01612_0_0_1824_2736.jpg\"\n",
    "    \n",
    "    # Process the image\n",
    "    processed_image = process_image_from_folder(folder_path, file_name)\n",
    "    \n",
    "    # Display the processed image\n",
    "    display_image(processed_image, title=\"Processed 64x64 Binarized Image\")\n",
    "    \n",
    "    # Save the image as a NumPy array\n",
    "    save_path = \"processed_image.npy\"\n",
    "    save_numpy_array(processed_image, save_path)\n",
    "    \n",
    "    # Load the saved NumPy array (to verify)\n",
    "    loaded_image = np.load(save_path)\n",
    "    print(\"Loaded image shape:\", loaded_image.shape)\n",
    "    print(\"Loaded image unique values:\", np.unique(loaded_image))\n"
   ]
  },
  {
   "cell_type": "code",
   "execution_count": null,
   "metadata": {},
   "outputs": [],
   "source": []
  }
 ],
 "metadata": {
  "kernelspec": {
   "display_name": "24AIconf",
   "language": "python",
   "name": "python3"
  },
  "language_info": {
   "codemirror_mode": {
    "name": "ipython",
    "version": 3
   },
   "file_extension": ".py",
   "mimetype": "text/x-python",
   "name": "python",
   "nbconvert_exporter": "python",
   "pygments_lexer": "ipython3",
   "version": "3.8.19"
  }
 },
 "nbformat": 4,
 "nbformat_minor": 2
}
